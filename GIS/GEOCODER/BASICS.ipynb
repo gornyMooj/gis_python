{
 "cells": [
  {
   "cell_type": "markdown",
   "id": "fd0fb876",
   "metadata": {},
   "source": [
    "DOCUMNETATION:   https://geocoder.readthedocs.io/"
   ]
  },
  {
   "cell_type": "code",
   "execution_count": 6,
   "id": "e0d48797",
   "metadata": {},
   "outputs": [
    {
     "data": {
      "text/plain": [
       "{'accuracy': 0.8175766114518461,\n",
       " 'address': 'City of New York, New York, United States',\n",
       " 'bbox': {'northeast': [40.91763, -73.700233],\n",
       "  'southwest': [40.476578, -74.258843]},\n",
       " 'city': 'City of New York',\n",
       " 'confidence': 1,\n",
       " 'country': 'United States',\n",
       " 'country_code': 'us',\n",
       " 'importance': 0.8175766114518461,\n",
       " 'lat': 40.7127281,\n",
       " 'lng': -74.0060152,\n",
       " 'ok': True,\n",
       " 'osm_id': 175905,\n",
       " 'osm_type': 'relation',\n",
       " 'place_id': 370931646,\n",
       " 'place_rank': 10,\n",
       " 'quality': 'administrative',\n",
       " 'raw': {'place_id': 370931646,\n",
       "  'licence': 'Data © OpenStreetMap contributors, ODbL 1.0. http://osm.org/copyright',\n",
       "  'osm_type': 'relation',\n",
       "  'osm_id': 175905,\n",
       "  'lat': '40.7127281',\n",
       "  'lon': '-74.0060152',\n",
       "  'category': 'boundary',\n",
       "  'type': 'administrative',\n",
       "  'place_rank': 10,\n",
       "  'importance': 0.8175766114518461,\n",
       "  'addresstype': 'city',\n",
       "  'name': 'City of New York',\n",
       "  'display_name': 'City of New York, New York, United States',\n",
       "  'address': {'city': 'City of New York',\n",
       "   'state': 'New York',\n",
       "   'ISO3166-2-lvl4': 'US-NY',\n",
       "   'country': 'United States',\n",
       "   'country_code': 'us'},\n",
       "  'boundingbox': ['40.4765780', '40.9176300', '-74.2588430', '-73.7002330']},\n",
       " 'region': 'New York',\n",
       " 'state': 'New York',\n",
       " 'status': 'OK',\n",
       " 'type': 'administrative'}"
      ]
     },
     "execution_count": 6,
     "metadata": {},
     "output_type": "execute_result"
    }
   ],
   "source": [
    "import geocoder\n",
    "g = geocoder.osm('New York city')\n",
    "g.json"
   ]
  },
  {
   "cell_type": "code",
   "execution_count": 10,
   "id": "b617b28f",
   "metadata": {},
   "outputs": [
    {
     "data": {
      "text/plain": [
       "{'x': -74.01117614207921,\n",
       " 'y': 40.7070653,\n",
       " 'addr:housenumber': '11',\n",
       " 'addr:street': 'Wall Street',\n",
       " 'addr:city': 'City of New York',\n",
       " 'addr:state': 'New York',\n",
       " 'addr:country': 'United States',\n",
       " 'addr:postal': '10005'}"
      ]
     },
     "execution_count": 10,
     "metadata": {},
     "output_type": "execute_result"
    }
   ],
   "source": [
    "import geocoder\n",
    "g = geocoder.osm('11 Wall Street, New York')\n",
    "g.osm"
   ]
  },
  {
   "cell_type": "code",
   "execution_count": 12,
   "id": "8b39b11c",
   "metadata": {},
   "outputs": [
    {
     "data": {
      "text/plain": [
       "{'x': 19.9453959,\n",
       " 'y': 53.4726365,\n",
       " 'addr:housenumber': '48A',\n",
       " 'addr:state': 'województwo warmińsko-mazurskie',\n",
       " 'addr:country': 'Polska',\n",
       " 'addr:postal': '14-120'}"
      ]
     },
     "execution_count": 12,
     "metadata": {},
     "output_type": "execute_result"
    }
   ],
   "source": [
    "import geocoder\n",
    "g = geocoder.osm('48a Elgnowo')\n",
    "g.osm"
   ]
  },
  {
   "cell_type": "code",
   "execution_count": 13,
   "id": "f7d76583",
   "metadata": {},
   "outputs": [
    {
     "data": {
      "text/plain": [
       "19.9453959"
      ]
     },
     "execution_count": 13,
     "metadata": {},
     "output_type": "execute_result"
    }
   ],
   "source": [
    "g.osm['x']"
   ]
  },
  {
   "cell_type": "code",
   "execution_count": null,
   "id": "012b5eca",
   "metadata": {},
   "outputs": [],
   "source": []
  }
 ],
 "metadata": {
  "kernelspec": {
   "display_name": "Python 3 (ipykernel)",
   "language": "python",
   "name": "python3"
  },
  "language_info": {
   "codemirror_mode": {
    "name": "ipython",
    "version": 3
   },
   "file_extension": ".py",
   "mimetype": "text/x-python",
   "name": "python",
   "nbconvert_exporter": "python",
   "pygments_lexer": "ipython3",
   "version": "3.7.11"
  }
 },
 "nbformat": 4,
 "nbformat_minor": 5
}
